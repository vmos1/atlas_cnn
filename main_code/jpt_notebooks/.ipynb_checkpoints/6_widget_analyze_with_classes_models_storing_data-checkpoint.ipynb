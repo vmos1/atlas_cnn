{
 "cells": [
  {
   "cell_type": "markdown",
   "metadata": {},
   "source": [
    "# Code with interactive widgets to analyze trained models and plot validation and roc curves\n",
    "Sept 3, 2019\n"
   ]
  },
  {
   "cell_type": "markdown",
   "metadata": {},
   "source": [
    "## Steps:\n",
    "- For a subset of models, read all data\n",
    "- Store it in a summary dictionary\n",
    "- Read from the dictionary for a specific model\n",
    "- Plot learning curve, roc curves and print summary"
   ]
  },
  {
   "cell_type": "code",
   "execution_count": 1,
   "metadata": {},
   "outputs": [],
   "source": [
    "import numpy as np\n",
    "import matplotlib.pyplot as plt\n",
    "import pandas as pd\n",
    "import h5py\n",
    "\n",
    "import subprocess as sp\n",
    "import pickle\n",
    "from ipywidgets import interact, interact_manual,fixed, SelectMultiple\n",
    "import time"
   ]
  },
  {
   "cell_type": "code",
   "execution_count": 2,
   "metadata": {},
   "outputs": [],
   "source": [
    "## M-L modules\n",
    "# import tensorflow.keras\n",
    "# from tensorflow.keras import layers, models, optimizers, callbacks  # or tensorflow.keras as keras\n",
    "# import tensorflow as tf\n",
    "\n",
    "from sklearn.utils import shuffle\n",
    "from sklearn.metrics import roc_curve, auc, roc_auc_score, precision_recall_curve, precision_recall_fscore_support\n",
    "from tensorflow.keras.models import load_model\n"
   ]
  },
  {
   "cell_type": "code",
   "execution_count": 3,
   "metadata": {},
   "outputs": [],
   "source": [
    "%matplotlib widget"
   ]
  },
  {
   "cell_type": "markdown",
   "metadata": {},
   "source": [
    "## Modules"
   ]
  },
  {
   "cell_type": "code",
   "execution_count": 4,
   "metadata": {},
   "outputs": [],
   "source": [
    "class data_set:\n",
    "    ''' Simple class to store the data set \n",
    "    variables: labels, images, weights\n",
    "    Modules: Getting summary, Plotting\n",
    "    Example objects: train data, test data, validation data\n",
    "    '''\n",
    "    \n",
    "    def __init__(self, filename):\n",
    "        self.filename=filename\n",
    "        self.f_get_data()\n",
    "        print(\"Created object from file \",filename)\n",
    "        \n",
    "    def f_get_data(self):\n",
    "        '''\n",
    "        Function to get data from hdf5 files into images, labels and weights.\n",
    "        '''\n",
    "        try: \n",
    "            hf = h5py.File(self.filename)\n",
    "\n",
    "        except Exception as e:\n",
    "            print(e)\n",
    "            print(\"Name of file\",self.filename)\n",
    "            raise SystemError\n",
    "\n",
    "        idx=None  ### Index for the case when the data is too large and you want to read in a slice\n",
    "        self.images = np.expand_dims(hf['all_events']['hist'][:idx], -1)\n",
    "        self.labels = hf['all_events']['y'][:idx]\n",
    "        weights = hf['all_events']['weight'][:idx]\n",
    "        self.weights = np.log(weights+1)\n",
    "\n",
    "\n",
    "class trained_model:\n",
    "    '''\n",
    "    Class to extract data of trained model\n",
    "    variables: model,history, y_pred (predictions of labels), fpr, tpr, threshold, auc\n",
    "    functions: f_read_stored_model, f_compute_preds\n",
    "    Example objects :  (models numbers) '1', '2', etc.\n",
    "    '''\n",
    "    \n",
    "    def __init__(self,model_name,model_save_dir):\n",
    "        \n",
    "        self.tpr,self.fpr,self.threshold,self.auc=[],[],[],None\n",
    "        self.precision,self.recall,self.threshold2,self.fscore,self.auc2=[],[],[],[],None\n",
    "        self.f_read_stored_model(model_name,model_save_dir)\n",
    "        \n",
    "    def f_read_stored_model(self,model_name,model_save_dir):\n",
    "        '''\n",
    "        Read model, history and predictions\n",
    "        '''\n",
    "        \n",
    "        fname_model='model_{0}.h5'.format(model_name)\n",
    "        fname_history='history_{0}.pickle'.format(model_name)\n",
    "\n",
    "        # Load model and history\n",
    "        self.model=load_model(model_save_dir+fname_model)\n",
    "        \n",
    "        with open(model_save_dir+fname_history,'rb') as f:\n",
    "            self.history= pickle.load(f)\n",
    "        \n",
    "        # Load predictions\n",
    "        fname_ypred=model_save_dir+'ypred_{0}.test'.format(model_name)\n",
    "        self.y_pred=np.loadtxt(fname_ypred)\n",
    "    \n",
    "    def f_compute_preds(self,test_data):\n",
    "        '''\n",
    "        Module to use model and compute \n",
    "        '''\n",
    "        \n",
    "        y_pred=self.y_pred\n",
    "        test_y,test_wts=test_data.labels,test_data.weights\n",
    "#         print(test_x.shape,test_y.shape,y_pred.shape,test_wts.shape)\n",
    "\n",
    "        ## roc curve\n",
    "        self.fpr,self.tpr,self.threshold=roc_curve(test_y,y_pred,sample_weight=test_wts)\n",
    "        # AUC \n",
    "        self.auc= auc(self.fpr, self.tpr)\n",
    "        \n",
    "        # calculate precision-recall curve\n",
    "        self.precision, self.recall, self.thresholds2 = precision_recall_curve(test_y, y_pred, sample_weight=test_wts)\n",
    "#         self.precision, self.recall, self.fscore, support = precision_recall_fscore_support(test_y, y_pred, sample_weight=test_wts)\n",
    "        \n",
    "        # AUC2\n",
    "        self.auc2= auc(self.recall, self.precision)\n",
    "        "
   ]
  },
  {
   "cell_type": "code",
   "execution_count": 5,
   "metadata": {},
   "outputs": [],
   "source": [
    "\n",
    "def f_plot_learning(history):\n",
    "    '''Plot learning curves : Accuracy and Validation'''\n",
    "    fig=plt.figure()\n",
    "    # Plot training & validation accuracy values\n",
    "    fig.add_subplot(2,1,1)\n",
    "    xlim=len(history['acc'])\n",
    "    \n",
    "    plt.plot(history['acc'],label='Train',marker='o')\n",
    "    plt.plot(history['val_acc'],label='Validation',marker='*')\n",
    "#     plt.title('Model accuracy')\n",
    "    plt.ylabel('Accuracy')\n",
    "    plt.xticks(np.arange(0,xlim,5))\n",
    "    \n",
    "    # Plot loss values\n",
    "    fig.add_subplot(2,1,2)\n",
    "    plt.plot(history['loss'],label='Train',marker='o')\n",
    "    plt.plot(history['val_loss'],label='Validation',marker='*')\n",
    "#     plt.title('Model loss')\n",
    "    plt.ylabel('Loss')\n",
    "    plt.xlabel('Epoch')\n",
    "    plt.xticks(np.arange(0,xlim,5))\n",
    "\n",
    "    plt.legend(loc='best')\n",
    "\n",
    "\n",
    "def f_plot_roc_curve(fpr,tpr):\n",
    "    '''\n",
    "    Module for roc plot and printing AUC\n",
    "    '''\n",
    "#     plt.figure()\n",
    "#     plt.scatter(fpr,tpr,s=5)\n",
    "#     plt.semilogx(fpr, tpr)\n",
    "    plt.semilogx(fpr, tpr,linestyle='',markersize=2,marker='*')\n",
    "\n",
    "  # Zooms\n",
    "    plt.xlim([10**-6,1.0])\n",
    "    plt.ylim([0,1.0])\n",
    "#   ###y=x line for comparison\n",
    "    x=np.linspace(0,1,num=500)\n",
    "    plt.plot(x,x)\n",
    "#     plt.xscale('log')\n",
    "#     plt.xlim(1e-10,1e-5)\n"
   ]
  },
  {
   "cell_type": "markdown",
   "metadata": {},
   "source": [
    "## Read stored model"
   ]
  },
  {
   "cell_type": "code",
   "execution_count": 17,
   "metadata": {},
   "outputs": [],
   "source": [
    "## Since reading data takes a bit of time, we first read a subset of models, analyze them and store essential data for plots\n",
    "\n",
    "def f_real_all_data(model_save_dir,model_name_list,test_data):\n",
    "    '''\n",
    "    Read stored data, plot learning and roc curves, print model summary\n",
    "    '''\n",
    "    \n",
    "    dict_summary=dict.fromkeys(model_name_list,None)\n",
    "    \n",
    "    for model_name in model_name_list:\n",
    "        obj=trained_model(model_name,model_save_dir)\n",
    "        obj.f_compute_preds(test_data)\n",
    "        \n",
    "        dict_summary[model_name]=obj\n",
    "        \n",
    "    return dict_summary\n",
    "\n",
    "\n",
    "def f_analyze_model(model_name,dict_summary,test_data,learning_curve=True,plot_roc=True,plot_pred=False,summary=False):\n",
    "    '''\n",
    "    Analyze model\n",
    "    '''\n",
    "\n",
    "    ### Pick up data stored in summary dictionary\n",
    "    obj=dict_summary[model_name]\n",
    "    \n",
    "    y_pred,history=obj.y_pred,obj.history\n",
    "    fpr,tpr,threshold,auc=obj.fpr,obj.tpr,obj.threshold,obj.auc\n",
    "    test_y,test_wts=test_data.labels,test_data.weights\n",
    "#     print(test_y.shape,y_pred.shape,test_wts.shape)\n",
    "    \n",
    "    ####################################\n",
    "    # Plot tested model\n",
    "    ### Get data for prediction comparison curves\n",
    "    bkg_loc=np.where(test_y==0.0)[0]\n",
    "    sig_loc=np.where(test_y==1.0)[0]\n",
    "    pred_at_sig=y_pred[sig_loc]\n",
    "    pred_at_bkg=y_pred[bkg_loc]\n",
    "        \n",
    "#     print(bkg_loc.shape,sig_loc.shape,pred_at_sig.shape,pred_at_bkg.shape)\n",
    "    \n",
    "    if learning_curve: \n",
    "        f_plot_learning(history)\n",
    "        plt.savefig('learning_curve.pdf')\n",
    "        \n",
    "    ## Plot roc curve\n",
    "    if plot_roc:\n",
    "        fig=plt.figure()\n",
    "        \n",
    "        fig.add_subplot(2,2,1)\n",
    "        f_plot_roc_curve(fpr,tpr)\n",
    "        plt.title('Roc curve')\n",
    "        \n",
    "        fig.add_subplot(2,2,2)\n",
    "        f_plot_roc_curve(obj.precision,obj.recall)\n",
    "        plt.title('Precision-recall curve')\n",
    "        \n",
    "        print('Auc 1:',obj.auc)\n",
    "        print('Auc 2:',obj.auc2)\n",
    "        \n",
    "        fig.add_subplot(2,2,3)\n",
    "        n,bins,patches=plt.hist(y_pred, density=None, bins=50)\n",
    "        plt.xlim(0,1)\n",
    "        plt.title('Prediction histogram')\n",
    "        \n",
    "        fig.add_subplot(2,2,4)\n",
    "#         n,bins,patches=plt.hist(pred_at_sig, density=None, bins=50,label='signal')\n",
    "#         n,bins,patches=plt.hist(pred_at_bkg, density=None, bins=50,label='background')\n",
    "        plt.hist([pred_at_sig,pred_at_bkg],bins=20,label=['sig','background'])\n",
    "        \n",
    "        plt.legend(loc='best')\n",
    "        plt.title('Prediction distributions ')\n",
    "        \n",
    "        plt.tight_layout()\n",
    "#         plt.hist([x, y], bins, label=['x', 'y'])\n",
    "#         plt.savefig('prediction_plots.pdf')\n",
    "    \n",
    "    if plot_pred:\n",
    "        fig=plt.figure()\n",
    "        \n",
    "        fig.add_subplot(1,3,1)\n",
    "        plt.plot(fpr,color='r',label='fpr')\n",
    "        plt.plot(tpr,color='b',label='tpr')\n",
    "        plt.plot(threshold[1:],label='threshold')\n",
    "        plt.legend(loc='best')\n",
    "        plt.title('FPR, TPR and threshold')\n",
    "        \n",
    "        fig.add_subplot(1,3,2)\n",
    "        plt.plot(sig_loc,marker='*',label='signal')\n",
    "        plt.plot(bkg_loc,marker='D',label='background')\n",
    "#         plt.plot(test_y,label='y test')\n",
    "        plt.legend(loc='best')\n",
    "        plt.title('ypred vs ytest')\n",
    "        \n",
    "        fig.add_subplot(1,3,3)\n",
    "        plt.plot(obj.precision,label='precision')\n",
    "        plt.plot(obj.recall,label='recall')\n",
    "        plt.plot(obj.threshold2,label='threshold2')\n",
    "        plt.legend(loc='best')\n",
    "        plt.title('Precision, recall and threshold')\n",
    "        \n",
    "    ## Model summary\n",
    "    if summary: \n",
    "        print(np.max(tpr),np.max(fpr))\n",
    "        print(obj.model.summary())\n",
    "        pass\n",
    "#         model.summary()\n",
    "\n",
    "\n",
    "def f_compare_rocs(model_name,dict_summary):\n",
    "    '''\n",
    "    Analyze model\n",
    "    '''\n",
    "    \n",
    "    ### Pick up data stored in summary dictionary\n",
    "#     print(model_name,type(model_name))    \n",
    "    plt.figure()\n",
    "    \n",
    "    for model_num in model_name:\n",
    "        obj=dict_summary[model_num]\n",
    "        \n",
    "        fpr,tpr,threshold,auc=obj.fpr,obj.tpr,obj.threshold,obj.auc\n",
    "        print(auc)\n",
    "        ## Plot roc curve\n",
    "#         plt.scatter(fpr,tpr,label='model: '+model_num,s=10,marker='*')\n",
    "        plt.semilogx(fpr, tpr,linestyle='',label='model: '+model_num,markersize=4,marker='*')\n",
    "        plt.legend(loc='best')\n"
   ]
  },
  {
   "cell_type": "markdown",
   "metadata": {},
   "source": [
    "### First store data for a subset of models"
   ]
  },
  {
   "cell_type": "code",
   "execution_count": 7,
   "metadata": {},
   "outputs": [
    {
     "name": "stdout",
     "output_type": "stream",
     "text": [
      "Created object from file  /global/project/projectdirs/dasrepo/vpa/atlas_cnn/data/RPVSusyData/test.h5\n"
     ]
    }
   ],
   "source": [
    "data_dir='/global/project/projectdirs/dasrepo/vpa/atlas_cnn/data/RPVSusyData/'\n",
    "test_data=data_set(data_dir+'test.h5')"
   ]
  },
  {
   "cell_type": "code",
   "execution_count": 8,
   "metadata": {},
   "outputs": [
    {
     "name": "stderr",
     "output_type": "stream",
     "text": [
      "WARNING: Logging before flag parsing goes to stderr.\n",
      "W1016 16:43:41.008540 46912496621568 deprecation.py:506] From /global/homes/v/vpa/.conda/envs/v_py3/lib/python3.6/site-packages/tensorflow/python/ops/init_ops.py:97: calling GlorotUniform.__init__ (from tensorflow.python.ops.init_ops) with dtype is deprecated and will be removed in a future version.\n",
      "Instructions for updating:\n",
      "Call initializer instance with the dtype argument instead of passing it to the constructor\n",
      "W1016 16:43:41.009476 46912496621568 deprecation.py:506] From /global/homes/v/vpa/.conda/envs/v_py3/lib/python3.6/site-packages/tensorflow/python/ops/init_ops.py:1251: calling VarianceScaling.__init__ (from tensorflow.python.ops.init_ops) with dtype is deprecated and will be removed in a future version.\n",
      "Instructions for updating:\n",
      "Call initializer instance with the dtype argument instead of passing it to the constructor\n",
      "W1016 16:43:41.010192 46912496621568 deprecation.py:506] From /global/homes/v/vpa/.conda/envs/v_py3/lib/python3.6/site-packages/tensorflow/python/ops/init_ops.py:97: calling Zeros.__init__ (from tensorflow.python.ops.init_ops) with dtype is deprecated and will be removed in a future version.\n",
      "Instructions for updating:\n",
      "Call initializer instance with the dtype argument instead of passing it to the constructor\n",
      "W1016 16:43:42.459607 46912496621568 deprecation.py:323] From /global/homes/v/vpa/.conda/envs/v_py3/lib/python3.6/site-packages/tensorflow/python/ops/nn_impl.py:180: add_dispatch_support.<locals>.wrapper (from tensorflow.python.ops.array_ops) is deprecated and will be removed in a future version.\n",
      "Instructions for updating:\n",
      "Use tf.where in 2.0, which has the same broadcast rule as np.where\n",
      "W1016 16:43:58.210495 46912496621568 deprecation.py:506] From /global/homes/v/vpa/.conda/envs/v_py3/lib/python3.6/site-packages/tensorflow/python/ops/init_ops.py:97: calling Ones.__init__ (from tensorflow.python.ops.init_ops) with dtype is deprecated and will be removed in a future version.\n",
      "Instructions for updating:\n",
      "Call initializer instance with the dtype argument instead of passing it to the constructor\n"
     ]
    }
   ],
   "source": [
    "# model_save_dir='/global/project/projectdirs/dasrepo/vpa/atlas_cnn/results/2_runs_Sept13_modified/'\n",
    "# model_save_dir='/global/project/projectdirs/dasrepo/vpa/atlas_cnn/results/3_runs_Oct1_models_with_strides/'\n",
    "# model_save_dir='/global/project/projectdirs/dasrepo/vpa/atlas_cnn/results/4_old_test_set_best_models/'\n",
    "# model_save_dir='/global/project/projectdirs/dasrepo/vpa/atlas_cnn/results/5_final_set_best_models_fail/'\n",
    "model_save_dir='/global/project/projectdirs/dasrepo/vpa/atlas_cnn/results/8_final_set_best_models/'\n",
    "\n",
    "# lst=[1,2,3,4,5,6,7,8,9,14,15,16]\n",
    "lst=[0,1,2,3,4,5,6,10,11]\n",
    "# lst=[1,2]\n",
    "model_sublist=[str(i) for i in lst ]\n",
    "\n",
    "dict_summary=f_real_all_data(model_save_dir,model_sublist,test_data)"
   ]
  },
  {
   "cell_type": "code",
   "execution_count": 9,
   "metadata": {},
   "outputs": [
    {
     "name": "stdout",
     "output_type": "stream",
     "text": [
      "dict_keys(['0', '1', '2', '3', '4', '5', '6', '10', '11'])\n"
     ]
    }
   ],
   "source": [
    "print(dict_summary.keys())\n",
    "# dir(dict_summary.keys())\n",
    "# #print(dict_summary)\n"
   ]
  },
  {
   "cell_type": "markdown",
   "metadata": {},
   "source": [
    "### Generate plots and summary \n",
    "Read from dictionary **dict_summary**"
   ]
  },
  {
   "cell_type": "code",
   "execution_count": 10,
   "metadata": {},
   "outputs": [],
   "source": [
    "# f_analyze_model('1',dict_summary,test_data,learning_curve=False,summary=False,plot_roc=True,plot_pred=True)"
   ]
  },
  {
   "cell_type": "code",
   "execution_count": 18,
   "metadata": {},
   "outputs": [
    {
     "data": {
      "application/vnd.jupyter.widget-view+json": {
       "model_id": "48f261239c7c46ee9dac52363d2682c1",
       "version_major": 2,
       "version_minor": 0
      },
      "text/plain": [
       "interactive(children=(Dropdown(description='model_name', options=('0', '1', '2', '3', '4', '5', '6', '10', '11…"
      ]
     },
     "metadata": {},
     "output_type": "display_data"
    },
    {
     "data": {
      "text/plain": [
       "<function __main__.f_analyze_model(model_name, dict_summary, test_data, learning_curve=True, plot_roc=True, plot_pred=False, summary=False)>"
      ]
     },
     "execution_count": 18,
     "metadata": {},
     "output_type": "execute_result"
    }
   ],
   "source": [
    "interact_manual(f_analyze_model,dict_summary=fixed(dict_summary),model_name=model_sublist,test_data=fixed(test_data))"
   ]
  },
  {
   "cell_type": "markdown",
   "metadata": {},
   "source": [
    "### Compare roc curves"
   ]
  },
  {
   "cell_type": "code",
   "execution_count": 16,
   "metadata": {},
   "outputs": [
    {
     "data": {
      "application/vnd.jupyter.widget-view+json": {
       "model_id": "9206644ca4cb444b8d95123421c0d279",
       "version_major": 2,
       "version_minor": 0
      },
      "text/plain": [
       "interactive(children=(SelectMultiple(description='model_name', options=('0', '1', '2', '3', '4', '5', '6', '10…"
      ]
     },
     "metadata": {},
     "output_type": "display_data"
    },
    {
     "data": {
      "text/plain": [
       "<function __main__.f_compare_rocs(model_name, dict_summary)>"
      ]
     },
     "execution_count": 16,
     "metadata": {},
     "output_type": "execute_result"
    }
   ],
   "source": [
    "# f_compare_rocs(('1','2'),dict_summary)\n",
    "interact_manual(f_compare_rocs,model_name=SelectMultiple(options=model_sublist),dict_summary=fixed(dict_summary))\n"
   ]
  },
  {
   "cell_type": "code",
   "execution_count": 13,
   "metadata": {},
   "outputs": [],
   "source": [
    "# f_analyze_model('1',dict_summary)\n",
    "# f_compare_rocs(('1','2'),dict_summary)"
   ]
  },
  {
   "cell_type": "code",
   "execution_count": null,
   "metadata": {},
   "outputs": [],
   "source": []
  }
 ],
 "metadata": {
  "kernelspec": {
   "display_name": "v_py3",
   "language": "python",
   "name": "v_jpt_py3"
  },
  "language_info": {
   "codemirror_mode": {
    "name": "ipython",
    "version": 3
   },
   "file_extension": ".py",
   "mimetype": "text/x-python",
   "name": "python",
   "nbconvert_exporter": "python",
   "pygments_lexer": "ipython3",
   "version": "3.6.8"
  },
  "toc": {
   "base_numbering": 1,
   "nav_menu": {},
   "number_sections": true,
   "sideBar": true,
   "skip_h1_title": false,
   "title_cell": "Table of Contents",
   "title_sidebar": "Contents",
   "toc_cell": false,
   "toc_position": {},
   "toc_section_display": true,
   "toc_window_display": false
  }
 },
 "nbformat": 4,
 "nbformat_minor": 4
}
